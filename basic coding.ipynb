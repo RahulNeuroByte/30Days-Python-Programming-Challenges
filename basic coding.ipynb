{
 "cells": [
  {
   "cell_type": "code",
   "execution_count": null,
   "id": "d96ae406",
   "metadata": {},
   "outputs": [],
   "source": [
    "#1 adding two no with predifined variables\n",
    "num1=20\n",
    "num2=40\n",
    "print(\"The sum of two no is\",num1+num2)"
   ]
  },
  {
   "cell_type": "code",
   "execution_count": null,
   "id": "d5c4410a",
   "metadata": {},
   "outputs": [],
   "source": [
    "#4 using math module\n",
    "import math\n",
    "num=int(input(\"Enter a NO\"))\n",
    "sr=math.sqrt(num)\n",
    "print(\"The square root of the no is\",sr)"
   ]
  },
  {
   "cell_type": "code",
   "execution_count": null,
   "id": "e5fa9c71",
   "metadata": {},
   "outputs": [],
   "source": [
    "#5 To calculate area of triangle\n",
    "base= float(input(\"Enter the value of the base\"))\n",
    "height=float(input(\"Enter the height\"))\n",
    "area= base*height/(1/2)\n",
    "print(\"The area of the triangle is\", area)"
   ]
  },
  {
   "cell_type": "code",
   "execution_count": null,
   "id": "822b3bee",
   "metadata": {},
   "outputs": [],
   "source": [
    "#6 to  swap to variables\n",
    "\n",
    "a=10\n",
    "b=20\n",
    "a,b =b,a\n",
    "print(\"the value of a:\",a)\n",
    "print(\"The value of b:\",b)"
   ]
  },
  {
   "cell_type": "code",
   "execution_count": null,
   "id": "e4535dde",
   "metadata": {},
   "outputs": [],
   "source": [
    "#7 #other method\n",
    "a=20\n",
    "b=40\n",
    "temp=b \n",
    "b=a\n",
    "a=temp\n",
    "print(\"The value of a is:\",a)\n",
    "print(\"THe value of b is:\",b)\n"
   ]
  },
  {
   "cell_type": "code",
   "execution_count": null,
   "id": "d1899b2e",
   "metadata": {},
   "outputs": [],
   "source": [
    "#8 program to convert kilometres into miles\n",
    "# 1km = 0.621371 mile\n",
    "disin_km=float(input(\"Enter value in Km\"))\n",
    "miles=disin_km * 0.621371\n",
    "print(\"The value of distance in miles is:\",miles)"
   ]
  },
  {
   "cell_type": "code",
   "execution_count": null,
   "id": "20803349",
   "metadata": {},
   "outputs": [],
   "source": [
    "#9 TO check a no is -ve, +ve,0\n",
    "num=float(input(\"Enter a No\"))\n",
    "if num ==0:\n",
    "    print(num,\"is equal to ZERO\")\n",
    "if num < 0:\n",
    "    print(num,\"is negative\")\n",
    "if num > 0:\n",
    "    print(num,\"is positive\")"
   ]
  },
  {
   "cell_type": "code",
   "execution_count": null,
   "id": "7388f1e2",
   "metadata": {},
   "outputs": [],
   "source": [
    "#10\n",
    "num=float(input(\"Enter a No\"))\n",
    "if num ==0:\n",
    "    print(num,\"is equal to ZERO\")\n",
    "if num < 0:\n",
    "    print(num,\"is negative\")\n",
    "else:\n",
    "    print(num,\"is positive\")"
   ]
  },
  {
   "cell_type": "code",
   "execution_count": null,
   "id": "007e2e6a",
   "metadata": {},
   "outputs": [],
   "source": [
    "# 10 To check a no is even or odd\n",
    "a=int(input(\"Enter a NO \"))\n",
    "if a % 2==0:\n",
    "    print(a,\":Is an even no\")\n",
    "else:\n",
    "    print(a,\": is an odd no\")"
   ]
  },
  {
   "cell_type": "code",
   "execution_count": null,
   "id": "30a36fc1",
   "metadata": {},
   "outputs": [],
   "source": [
    "#11: Program to check leap year\n",
    "year=int(input(\"Enter a Year\"))\n",
    "if year % 400==0 and year %100==0 :\n",
    "    print(year,\"is a leap year\")\n",
    "elif year %4==0 and year %100!= 0:\n",
    "    print(year,\"is a leap year\")\n",
    "else:\n",
    "    print(year,\"is not a leap year\")"
   ]
  },
  {
   "cell_type": "code",
   "execution_count": null,
   "id": "949e3568",
   "metadata": {},
   "outputs": [],
   "source": [
    "#12 to check largest among three No\n",
    "num1= int(input(\"ENter a NO\"))\n",
    "print(\"The 1st NO is:\",num1)\n",
    "num2= int(input(\"Enter a NO\"))\n",
    "print(\"The 2nd no is:\",num2)\n",
    "num3=int(input(\"Enter a NO\"))\n",
    "print(\"The 3rd NO is:\",num3)\n",
    "if num1 > num2 and num1 >num3:\n",
    "    print(\"num1 is greater:\",num1)\n",
    "elif num2 > num1 and num2 >num3:\n",
    "    print(\"num2 is greater:\",num2)\n",
    "else:\n",
    "    print(\"num3 is greater\",num3)\n"
   ]
  },
  {
   "cell_type": "code",
   "execution_count": null,
   "id": "9b37590d",
   "metadata": {},
   "outputs": [],
   "source": [
    "#13  tO CHECK no is prime or not\n",
    "def is_prime(n):\n",
    "    if n <= 1:\n",
    "        return False\n",
    "    for i in range(2, int(n**0.5) + 1):  # Optimization\n",
    "        if n % i == 0:\n",
    "            return False\n",
    "    return True\n",
    "\n",
    "def find_primes_in_list(numbers):\n",
    "    prime = []\n",
    "    for num in numbers:\n",
    "        if is_prime(num):\n",
    "            prime.append(num)\n",
    "    return prime\n",
    "\n",
    "# Input: space-separated numbers\n",
    "numbers = list(map(int, input(\"Enter the numbers separated by space: \").split()))\n",
    "prime_numbers = find_primes_in_list(numbers)\n",
    "\n",
    "print(\"The numbers are:\", numbers)\n",
    "print(\"The prime numbers in the list are:\", prime_numbers)\n"
   ]
  },
  {
   "cell_type": "code",
   "execution_count": null,
   "id": "ebe4e918",
   "metadata": {},
   "outputs": [],
   "source": [
    "#14 tO CHECK no is prime or not\n",
    "num=int(input(\"Enter a NO\"))\n",
    "print(\"The no is:\",num)\n",
    "if num==1:\n",
    "    print(num,\"is not a prime NO\")\n",
    "for i in range (2,num):\n",
    "    if num % i ==0:\n",
    "        print(num,\"is not a prime no\")\n",
    "        break\n",
    "else:\n",
    "    print(num,\"is a prime no\")"
   ]
  },
  {
   "cell_type": "code",
   "execution_count": null,
   "id": "bb8fa3d2",
   "metadata": {},
   "outputs": [],
   "source": [
    "#15 TO GENERATE A RANDOM NO\n",
    "import random\n",
    "num=random.randint(0,100)\n",
    "print(num)\n"
   ]
  },
  {
   "cell_type": "code",
   "execution_count": null,
   "id": "6d05fcbd",
   "metadata": {},
   "outputs": [],
   "source": [
    "# 16 To print prime no in range\n",
    "lower=int(input(\"Enter lower limit\"))\n",
    "upper=int(input(\"Enter a upper limit\"))\n",
    "\n",
    "for num in range(lower, upper +1):\n",
    "    if num >2:\n",
    "        for i in range(2,num):\n",
    "            if num%i ==0:\n",
    "                break\n",
    "        else:\n",
    "            print(num)"
   ]
  },
  {
   "cell_type": "code",
   "execution_count": null,
   "id": "4909ff57",
   "metadata": {},
   "outputs": [],
   "source": [
    "# 16 To print prime no in range using function\n",
    "def is_prime(num):\n",
    "    if num <=1:\n",
    "        return False\n",
    "    if num==2:\n",
    "        return True\n",
    "    for i in range(2,int(num*0.5) + 1):\n",
    "        if num % i ==0:\n",
    "            return False\n",
    "    return True\n",
    "\n",
    "# Get range from the user\n",
    "lower=int(input(\"Enter the lower limit\"))\n",
    "upper=int(input(\"Enter the upper limit\"))\n",
    "\n",
    "# print prime in range\n",
    "for num in range(lower,upper + 1):\n",
    "    if is_prime(num):\n",
    "        print(num)"
   ]
  },
  {
   "cell_type": "code",
   "execution_count": null,
   "id": "d44523ad",
   "metadata": {},
   "outputs": [],
   "source": [
    "#17 TO find factorial of a NO\n",
    "num=int(input(\"Enter a NO\"))\n",
    "fact=1\n",
    "if num <0:\n",
    "    print(\"factorial not exists\")\n",
    "if num ==0:\n",
    "    print(\"factorial is :\",1)\n",
    "if num > 0:\n",
    "    for i in range(1,num + 1):\n",
    "        fact=fact*i \n",
    "print(\"factorial of no is:\",fact)"
   ]
  },
  {
   "cell_type": "markdown",
   "id": "06109a26",
   "metadata": {},
   "source": [
    "# DAY: 3\n"
   ]
  },
  {
   "cell_type": "code",
   "execution_count": null,
   "id": "266318bc",
   "metadata": {},
   "outputs": [],
   "source": [
    "#18 To display multiplication table\n",
    "n=int(input(\"Enter a No\"))\n",
    "print(n,\"is the number\")\n",
    "for i in range(1,11):\n",
    "    table=n*i\n",
    "    print(table)"
   ]
  },
  {
   "cell_type": "code",
   "execution_count": null,
   "id": "40ee9c70",
   "metadata": {},
   "outputs": [],
   "source": [
    "#19\n",
    "def mul_table(n):\n",
    "    for i in range(1,11):\n",
    "        table=n * i\n",
    "n=int(input(\"Enter a NO\"))\n",
    "if mul_table(n):\n",
    "    print(n)\n",
    "    "
   ]
  },
  {
   "cell_type": "code",
   "execution_count": null,
   "id": "560e8a75",
   "metadata": {},
   "outputs": [],
   "source": [
    "#20 \n",
    "n=int(input(\"Enter a NO\"))\n",
    "for i in range(1,11):\n",
    "    print(n,\"X\",i,\"=\",n*i)"
   ]
  },
  {
   "cell_type": "code",
   "execution_count": null,
   "id": "fe203ef8",
   "metadata": {},
   "outputs": [],
   "source": [
    "#21\n",
    "n=int(input(\"Enter a NO\"))\n",
    "i=1\n",
    "while i <=10:\n",
    "    print(n,\"X\",i,\"=\",n*i)\n",
    "    i+=1"
   ]
  },
  {
   "cell_type": "code",
   "execution_count": null,
   "id": "ed7bf150",
   "metadata": {},
   "outputs": [],
   "source": [
    "#22 To print square of a NO in a range\n",
    "num=int(input(\"Enter a NO\"))\n",
    "for i in range(1,num+1):\n",
    "    print(i,\"^2\",\"=\",i**2)"
   ]
  },
  {
   "cell_type": "code",
   "execution_count": null,
   "id": "2c7e583e",
   "metadata": {},
   "outputs": [],
   "source": [
    "#23 Fibonacci Sequence\n",
    "n=int(input(\"Enter a NO to obtain a sequence of fiboncci series\"))\n",
    "a=0\n",
    "b=1\n",
    "c=a +b\n",
    "for i in range(1,n):\n",
    "    c= a+b\n",
    "    a=b\n",
    "    b=c\n",
    "    print(c)"
   ]
  },
  {
   "cell_type": "markdown",
   "id": "d07e159f",
   "metadata": {},
   "source": [
    "# ✅What is an Armstrong Number?\n",
    "An Armstrong number (also called a narcissistic number) is a number that is equal to the sum of its own digits each raised to the power of the number of digits.\n",
    "\n",
    "\n",
    " Example 1: 153\n",
    "It has 3 digits → So raise each digit to the power of 3\n",
    "\n",
    "1*1*1 + 5*5*5 + 3*3*3 = 153\n",
    "\n",
    " =1+125+27=153\n",
    " \n",
    "✅ So, 153 is an Armstrong number\n",
    "\n",
    "🔢 Example 2: 9474\n",
    "\n",
    "It has 4 digits → So raise each digit to the power of 4\n",
    "\n",
    "9*9*9*9 + 4*4*4*4 + 7*7*7*7 + 4*4*4*4 = 9474\n",
    "\n",
    " =6561+256+2401+256=9474\n",
    "\n",
    "✅ So, 9474 is an Armstrong number\n",
    "\n",
    "❌ Example 3: 123\n",
    "\n",
    "1*1*1 + 2*2*2 + 3*3*3 = 36\n",
    "\n",
    " =1+8+27=36\n",
    "\n",
    "=123\n",
    "❌ So, 123 is NOT an Armstrong number"
   ]
  },
  {
   "cell_type": "code",
   "execution_count": null,
   "id": "10c48a4d",
   "metadata": {},
   "outputs": [],
   "source": [
    "#24\n",
    "def fib_series(n):\n",
    "    a=0\n",
    "    b=1\n",
    "    c=a +b\n",
    "    if n<=0:\n",
    "        print(\"Enter a +ve NO\")\n",
    "    elif n==1:\n",
    "        print(a)\n",
    "    else:\n",
    "        print(\"Fibonacci Series:\")\n",
    "        print(a,b,end=\" \")\n",
    "    for i in range(2,n+1):\n",
    "        c=a+b \n",
    "        print(c,end=\" \")\n",
    "        a=b\n",
    "        b=c\n",
    "    return c\n",
    "n=int(input(\"Enter a NO\"))\n",
    "fib_series(n)"
   ]
  },
  {
   "cell_type": "code",
   "execution_count": null,
   "id": "02ea6bc9",
   "metadata": {},
   "outputs": [],
   "source": [
    "#25 TO check a no is armstrong or not\n",
    "num=int(input(\"Enter a NO\"))\n",
    "print(f\"{num} is the no\")\n",
    "print(\"check whether ---> \" f\"{num} is Armstrong or not\")\n",
    "\n",
    "order=len(str(num))\n",
    "sum=0\n",
    "temp=num\n",
    "while temp>0:\n",
    "    digit=temp%10\n",
    "    sum+= digit ** order\n",
    "    temp //=10\n",
    "\n",
    "if sum==num:\n",
    "    print(f\"{num} is an Armstrong NO\")\n",
    "else:\n",
    "    print(f\"{num} is not an Armstrong NO\")\n",
    "\n"
   ]
  },
  {
   "cell_type": "code",
   "execution_count": null,
   "id": "1e03ff5b",
   "metadata": {},
   "outputs": [],
   "source": [
    "#26 To obtain Armstrong NO in a range\n",
    "# Input range\n",
    "lower = int(input(\"Enter the lower range: \"))\n",
    "upper = int(input(\"Enter the upper range: \"))\n",
    "\n",
    "print(f\"\\nArmstrong numbers between {lower} and {upper} are:\")\n",
    "\n",
    "# Loop through the range\n",
    "for num in range(lower, upper + 1):\n",
    "    order = len(str(num))  # Number of digits\n",
    "    sum = 0\n",
    "    temp = num\n",
    "\n",
    "    # Sum of digits raised to the power of order\n",
    "    while temp > 0:\n",
    "        digit = temp % 10\n",
    "        sum += digit ** order\n",
    "        temp //= 10\n",
    "\n",
    "    # Check if Armstrong\n",
    "    if sum == num:\n",
    "        print(num)\n"
   ]
  },
  {
   "cell_type": "markdown",
   "id": "b3e68aae",
   "metadata": {},
   "source": [
    "# lambda function---> Annonynous Function\n",
    "\n",
    "syntax:\n",
    "\n",
    "lambda aruguments : Expression"
   ]
  },
  {
   "cell_type": "code",
   "execution_count": null,
   "id": "aa6a8f8c",
   "metadata": {},
   "outputs": [],
   "source": [
    "#27 using lambda function\n",
    "\n",
    "add=lambda a,b : a +b\n",
    "print(add(3,7))\n",
    "\n",
    "nterms=int(input(\"Enter no of terms\"))\n",
    "result=list(map(lambda x : 2** x, range(nterms+1)))\n",
    "print(result)"
   ]
  },
  {
   "cell_type": "code",
   "execution_count": null,
   "id": "78ec7637",
   "metadata": {},
   "outputs": [],
   "source": [
    "#29\n",
    "x = ['ab', 'cd']\n",
    "for i in x:\n",
    "    i.upper()\n",
    "print(x)"
   ]
  },
  {
   "cell_type": "markdown",
   "id": "581c1573",
   "metadata": {},
   "source": [
    "above ------------>Pehle i = 'ab', fir i = 'cd'\n",
    "\n",
    "i.upper() string ko uppercase banata hai but does NOT change the original string, because strings are immutable in Python\n",
    "\n",
    "i.upper() ka result use nahi kiya gaya (no assignment)\n",
    "\n",
    "Toh actual list x unchanged hi rahegi.\n",
    "\n",
    "\n",
    "trunc() returns the integer part of a number by truncating (cutting off) the decimal/fractional part, without rounding."
   ]
  },
  {
   "cell_type": "markdown",
   "id": "d3a6bc29",
   "metadata": {},
   "source": [
    "# Python Operator Precedence List (Highest to Lowest):\n",
    "\n",
    "Precedence\t                          Operators                                  \t    Description\n",
    "\n",
    "1️⃣ (Highest)                            \t()\t                                      Parentheses (grouping expressions)\n",
    "\n",
    "2️⃣\t**\t                                                                               Exponentiation\n",
    "\n",
    "3️⃣\t+x, -x, ~x               \tUnary plus, Unary minus, Bitwise NOT\n",
    "\n",
    "4️⃣\t*, /, //, %\t                Multiplication, Division, Floor Division, Modulus\n",
    "\n",
    "5️⃣\t+, -\t                    Addition, Subtraction\n",
    "\n",
    "6️⃣\t<<, >>\t                    Bitwise shift left/right\n",
    "\n",
    "7️⃣\t&\t                        Bitwise AND\n",
    "\n",
    "8️⃣\t^\t                        Bitwise XOR\n",
    "\n",
    "9️⃣\t`\t`\n",
    "🔟\t==, !=, >, <, >=, <=,      is, is not, in, not in\t                                  Comparison operators\n",
    "\n",
    "1️⃣1️⃣\tnot\tLogical NOT\n",
    "\n",
    "1️⃣2️⃣\tand\tLogical AND\n",
    "\n",
    "1️⃣3️⃣\tor\tLogical OR\n",
    "\n",
    "1️⃣4️⃣\tif-else\t                Ternary conditional expression\n",
    "\n",
    "1️⃣5️⃣\t=, +=, -=, *=, /=, //=, %=, **=, &=, `\t=, ^=, >>=, <<=`\n",
    "\n",
    "1️⃣6️⃣ (Lowest)\tlambda\tLambda expression"
   ]
  },
  {
   "cell_type": "code",
   "execution_count": null,
   "id": "74579545",
   "metadata": {},
   "outputs": [],
   "source": [
    "#30\n",
    "ls=[13,34,26,39,56,91,97,100]\n",
    "result=list(filter(lambda x: x%13==0,ls))\n",
    "print(\"The no divisible by 13 are\",result)\n"
   ]
  },
  {
   "cell_type": "code",
   "execution_count": null,
   "id": "a67fcb0e",
   "metadata": {},
   "outputs": [],
   "source": [
    "#31 decimal to binary,octal,hexadecimal conversion\n",
    "\n",
    "decimal=int(input(\"ENter a NO here:\"))\n",
    "\n",
    "print(f\"{decimal} is the number \")\n",
    "print(bin(decimal),\"in binary\")\n",
    "print(oct(decimal),\"in binary\")\n",
    "print(hex(decimal),\"in hexadecimal\")"
   ]
  },
  {
   "cell_type": "code",
   "execution_count": null,
   "id": "bdd787b2",
   "metadata": {},
   "outputs": [],
   "source": [
    "#32 converting a character value into ASCII value\n",
    "# for this we use ord\n",
    "\n",
    "char=str(input(\"enter a character\"))\n",
    "print(f\"{char} ---> is character value\")\n",
    "\n",
    "print(\"The ASCII value of\",char,\"is\",ord(char))\n"
   ]
  },
  {
   "cell_type": "code",
   "execution_count": null,
   "id": "4f3eaa3d",
   "metadata": {},
   "outputs": [],
   "source": [
    "# 33 TO FIND HCF or GCD\n",
    "\n",
    "def findHCF(x,y):\n",
    "    if x> y:\n",
    "        smaller=y \n",
    "    else:\n",
    "        smaller=y\n",
    "    for i in range(1, smaller+1):\n",
    "        if ((x%i==0) and y % i==0):\n",
    "            hcf=i\n",
    "    return hcf\n",
    "\n",
    "print(\"the hcf of two no is:\",findHCF(12,18))\n",
    " "
   ]
  },
  {
   "cell_type": "code",
   "execution_count": null,
   "id": "7fab34e0",
   "metadata": {},
   "outputs": [],
   "source": [
    "# 34 find factor of a no\n",
    "\n",
    "num=int(input(\"Enter a NO\"))\n",
    "print(f\"{num} is number\")\n",
    "\n",
    "print(\"The factors of the Number are:\")\n",
    "\n",
    "for i in range(1,num+1):\n",
    "    if num % i ==0:\n",
    "    \n",
    "        print(i)\n",
    "    \n",
    "        #print(\"The factors of the number\",num, \"are:\",i)"
   ]
  },
  {
   "cell_type": "code",
   "execution_count": null,
   "id": "c85f5897",
   "metadata": {},
   "outputs": [],
   "source": [
    "# 35 simple calculator\n",
    "\n",
    "def addition(a,b):\n",
    "    return a + b\n",
    "\n",
    "def subtraction(a,b):\n",
    "    return a-b\n",
    "\n",
    "def multiplication(a,b):\n",
    "    return a*b\n",
    "\n",
    "def division(a,b):\n",
    "    if b!=0:\n",
    "        return a  / b\n",
    "    else:\n",
    "        return \"Error: Division by Zero\"\n",
    "    \n",
    "while True:\n",
    "    print(\"\\n--Simple Calculator---\")\n",
    "    print(\"1. Add\")\n",
    "    print(\"2. Subtract\")\n",
    "    print(\"3. Subtract\")\n",
    "    print(\"4. Divide\")\n",
    "    print(\"5. Exit\")\n",
    "\n",
    "    choice=input(\"Enter your choice (1-5)\")\n",
    "\n",
    "    if choice=='5':\n",
    "        print(\"exiting calculator....\")\n",
    "        break\n",
    "\n",
    "    if choice in ['1','2','3','4']:\n",
    "        num1=float(input(\"Enter a No\"))\n",
    "        num2=float(input(\"Enter other number\"))\n",
    "\n",
    "        if choice=='1':\n",
    "            print(\"Result:\",addition(num1,num2))\n",
    "\n",
    "        elif choice=='2':\n",
    "            print(\"Result\",subtraction(num1,num2))\n",
    "\n",
    "        elif choice=='3':\n",
    "            print(\"Result:\",multiplication(num1,num2))\n",
    "\n",
    "        elif choice=='4':\n",
    "            print(\"Result:\",division(num1,num2))\n",
    "\n",
    "        else:\n",
    "            print(\"Invalid choice...Please enter a valid choice between 1 and 5.\")\n"
   ]
  },
  {
   "cell_type": "code",
   "execution_count": null,
   "id": "342e98cc",
   "metadata": {},
   "outputs": [],
   "source": [
    "def addition(a,b):\n",
    "    return a + b\n",
    "\n",
    "def subtraction(a,b):\n",
    "    return a -b\n",
    "\n",
    "def multiplication(a,b):\n",
    "    return a * b\n",
    "\n",
    "def division(a,b):\n",
    "    if b !=0:\n",
    "        return a / b\n",
    "    else:\n",
    "        print(\"Invalid..Division by 0\")\n",
    "\n",
    "while True:\n",
    "    print(\"/n...Simple Calculator...\")\n",
    "    print(\"1. Addition\")\n",
    "    print(\"2. Subtraction\")\n",
    "    print(\"3. Multiplication\")\n",
    "    print(\"4. Division\")\n",
    "    #print(\"5. Invalid choice..Please choose from 1-5\")\n",
    "    print(\"5. Exit\")\n",
    "\n",
    "    choice=input(\"Enter your choice (1-5):\")\n",
    "    if choice =='5':\n",
    "        print(\"Exiting calculator...\")\n",
    "        break\n",
    "\n",
    "    if choice in['1','2','3','4']:\n",
    "        num1=float(input(\"Enter first NO\"))\n",
    "        print(\"The First NO is:\",{num1})\n",
    "        num2=float(input(\"Enter Second NO\"))\n",
    "        print(\"The Second NO is :\",{num2})\n",
    "\n",
    "        if choice=='1':\n",
    "            result=addition(num1,num2)\n",
    "            print(f\"Add {num1} + {num2} = {result}\")\n",
    "\n",
    "        elif choice=='2':\n",
    "            result=subtraction(num1,num2)\n",
    "            print(f\"Subtract {num1} - {num2} = {result}\")\n",
    "\n",
    "        elif choice=='3':\n",
    "            result=multiplication(num1,num2)\n",
    "            print(f\"multiply{num1} * {num2}={result}\")\n",
    "\n",
    "        elif choice=='4':\n",
    "            result=division(num1,num2)\n",
    "            print(f\"Divide{num1} / {num2} = {result}\")\n",
    "\n",
    "        else:\n",
    "            print(\"Invalid choice.... Please select from 1-5.\")\n",
    "\n",
    "\n",
    "    "
   ]
  },
  {
   "cell_type": "code",
   "execution_count": null,
   "id": "5233dcf0",
   "metadata": {},
   "outputs": [],
   "source": [
    "#36 python program to shuffle Deck of Cards\n",
    "import random, itertools\n",
    "\n",
    "deck=list(itertools.product(range(1,14),[\"Spades\",\"Club\",\"Hearts\",\"Diamond\"]))\n",
    "\n",
    "#print(deck)\n",
    "\n",
    "# for shuffling\n",
    "random.shuffle(deck)\n",
    "print(deck)\n",
    "\n",
    "for i in range(5):\n",
    "    print(deck[i][0], \"of\", deck[i][1])"
   ]
  },
  {
   "cell_type": "code",
   "execution_count": null,
   "id": "fa3363f8",
   "metadata": {},
   "outputs": [],
   "source": [
    "# 37 Python program to display calendar \n",
    "import calendar\n",
    "year=int(input(\"Enter the Year:\"))\n",
    "month=int(input(\"Enter the month:\"))\n",
    "\n",
    "calendar=calendar.month(year,month)\n",
    "print(calendar)\n"
   ]
  },
  {
   "cell_type": "code",
   "execution_count": null,
   "id": "825e6c04",
   "metadata": {},
   "outputs": [],
   "source": [
    "import calendar\n",
    "\n",
    "def display_month(year, month):\n",
    "    try:\n",
    "        cal = calendar.TextCalendar(calendar.SUNDAY)\n",
    "        print(\"\\n\" + cal.formatmonth(year, month))\n",
    "    except:\n",
    "        print(\"Invalid month input. Please enter a number between 1 and 12.\")\n",
    "\n",
    "def display_year(year):\n",
    "    try:\n",
    "        cal = calendar.TextCalendar(calendar.SUNDAY)\n",
    "        print(\"\\n\" + cal.formatyear(year, 2, 1, 1, 3))\n",
    "    except:\n",
    "        print(\"Invalid year input.\")\n",
    "\n",
    "def main():\n",
    "    print(\"=== Python Calendar Display ===\")\n",
    "    print(\"1. Display Full Year\")\n",
    "    print(\"2. Display a Specific Month\")\n",
    "    \n",
    "    choice = input(\"Enter your choice (1 or 2): \").strip()\n",
    "    \n",
    "    if choice == \"1\":\n",
    "        year = int(input(\"Enter the Year: \"))\n",
    "        display_year(year)\n",
    "    \n",
    "    elif choice == \"2\":\n",
    "        year = int(input(\"Enter the Year: \"))\n",
    "        month = int(input(\"Enter the Month (1-12): \"))\n",
    "        display_month(year, month)\n",
    "    \n",
    "    else:\n",
    "        print(\"Invalid choice. Please select 1 or 2.\")\n",
    "\n",
    "if __name__ == \"__main__\":\n",
    "    main()\n"
   ]
  },
  {
   "cell_type": "code",
   "execution_count": null,
   "id": "3fdf0983",
   "metadata": {},
   "outputs": [],
   "source": [
    "# with GUI\n",
    "\n",
    "import tkinter as tk\n",
    "from tkinter import font\n",
    "import calendar\n",
    "\n",
    "def show_calendar():\n",
    "    try:\n",
    "        year = int(year_entry.get())\n",
    "        month = int(month_entry.get())\n",
    "\n",
    "        if not (1 <= month <= 12):\n",
    "            raise ValueError(\"Month must be between 1 and 12\")\n",
    "\n",
    "        cal_text = calendar.TextCalendar().formatmonth(year, month)\n",
    "        output.delete(\"1.0\", tk.END)\n",
    "        output.insert(tk.END, cal_text)\n",
    "    except Exception as e:\n",
    "        output.delete(\"1.0\", tk.END)\n",
    "        output.insert(tk.END, f\"Error: {str(e)}\")\n",
    "\n",
    "root = tk.Tk()\n",
    "root.title(\"Monthly Calendar Viewer\")\n",
    "\n",
    "# Labels and Entry\n",
    "tk.Label(root, text=\"Enter Year:\").pack()\n",
    "year_entry = tk.Entry(root)\n",
    "year_entry.pack()\n",
    "\n",
    "tk.Label(root, text=\"Enter Month (1-12):\").pack()\n",
    "month_entry = tk.Entry(root)\n",
    "month_entry.pack()\n",
    "\n",
    "tk.Button(root, text=\"Show Calendar\", command=show_calendar).pack()\n",
    "\n",
    "# Force monospaced font\n",
    "monofont = font.Font(family=\"Courier\", size=12)\n",
    "output = tk.Text(root, height=10, width=25, font=monofont)\n",
    "output.pack()\n",
    "\n",
    "root.mainloop()\n"
   ]
  },
  {
   "cell_type": "code",
   "execution_count": null,
   "id": "21e07a7c",
   "metadata": {},
   "outputs": [],
   "source": [
    "# 38 to display Fibonacci Sequence using Recursion\n",
    "def fibo(n):\n",
    "    if n <=1:\n",
    "        return n\n",
    "    else:\n",
    "        return fibo(n-1) + fibo(n-2)\n",
    "\n",
    "n=int(input(\"Enter a NO:\"))\n",
    "print(f\"{n}: is the No\")\n",
    "\n",
    "if n<=0:\n",
    "    print(\"Please enter a positive NO\")\n",
    "else:\n",
    "    print(\"The Fibonacci Sequence is:\")\n",
    "    for i in range(n):\n",
    "        print(fibo(i))"
   ]
  },
  {
   "cell_type": "code",
   "execution_count": null,
   "id": "dd2eeff1",
   "metadata": {},
   "outputs": [],
   "source": [
    "# 39 Find sum of natural no using Recursion\n",
    "def sum_of_naturalno(n):\n",
    "    if n<=1:\n",
    "        return 1\n",
    "\n",
    "    else:\n",
    "        return (n) + sum_of_naturalno(n-1)\n",
    "    \n",
    "n=int(input(\"Enter a No\"))\n",
    "print(f\"{n}: is the number\")\n",
    "if n<=0:\n",
    "    print(\"Enter a positive NO\")\n",
    "else:\n",
    "    print(\"Sum of natural number is:\",sum_of_naturalno(n))\n",
    "\n"
   ]
  },
  {
   "cell_type": "code",
   "execution_count": null,
   "id": "9cd1ff6c",
   "metadata": {},
   "outputs": [],
   "source": [
    "# 40  Factorial using Recursion\n",
    "\n",
    "fact=1\n",
    "def factorial(n):\n",
    "    if n<0:\n",
    "        return \"Factorial does not exists\"\n",
    "    elif n==0 or n==1:\n",
    "        return 1\n",
    "    else:\n",
    "        return n * factorial(n-1)\n",
    "    \n",
    "n=int(input(\"Enter a NO\"))\n",
    "print(f\"{n}: is the given number\")\n",
    "\n",
    "if n < 0:\n",
    "    print(\"Factoiral does not exists\")\n",
    "else:\n",
    "    print(\"Factorial is:\",factorial(n))\n"
   ]
  },
  {
   "cell_type": "code",
   "execution_count": null,
   "id": "1564bd89",
   "metadata": {},
   "outputs": [],
   "source": [
    "# 41 Decimal to Binary using Recursion\n",
    "def dec_to_bin(n):\n",
    "    if n==0:\n",
    "        return \"\"\n",
    "    else:\n",
    "        return dec_to_bin(n//2) + str(n%2)\n",
    "\n",
    "def convert(n):\n",
    "    if n==0:\n",
    "        return \"0\"\n",
    "    else:\n",
    "        return dec_to_bin(n)\n",
    "  \n",
    "n=int(input(\"Enter a Number\"))\n",
    "print(\"The decimal to binary conversion of\",n,\"is :\",convert(n))\n"
   ]
  },
  {
   "cell_type": "code",
   "execution_count": 1,
   "id": "512ef0ae",
   "metadata": {},
   "outputs": [
    {
     "name": "stdout",
     "output_type": "stream",
     "text": [
      "[6, 8, 10]\n",
      "[9, 10, 11]\n",
      "[3, 6, 10]\n"
     ]
    }
   ],
   "source": [
    "# 42 Python program to add two Matrices\n",
    "a=[[2,3,4],\n",
    "   [2,4,6],\n",
    "   [1,3,6]]\n",
    "\n",
    "b=[[4,5,6],\n",
    "   [7,6,5],\n",
    "   [2,3,4]]\n",
    "\n",
    "result=[[0,0,0],\n",
    "        [0,0,0],\n",
    "        [0,0,0]]\n",
    "for i in range(len(a)):\n",
    "    for j in range(len(a[0])):\n",
    "        result[i][j]= a[i][j] + b[i][j]\n",
    "\n",
    "for r in result:\n",
    "    print(r)"
   ]
  },
  {
   "cell_type": "code",
   "execution_count": 4,
   "id": "de7e3794",
   "metadata": {},
   "outputs": [
    {
     "name": "stdout",
     "output_type": "stream",
     "text": [
      "[2, 1]\n",
      "[4, 3]\n",
      "[6, 5]\n"
     ]
    }
   ],
   "source": [
    "# 43 to find the transpose of a matrix\n",
    "A=[[2,4,6],\n",
    "   [1,3,5]]\n",
    "\n",
    "T=[[0,0],\n",
    "   [0,0],\n",
    "   [0,0]]\n",
    "\n",
    "for i in range(len(A)):\n",
    "    for j in range(len(A[0])):\n",
    "        T[j][i]=A[i][j]\n",
    "for i in T:\n",
    "    print(i)"
   ]
  },
  {
   "cell_type": "code",
   "execution_count": 13,
   "id": "c439e612",
   "metadata": {},
   "outputs": [
    {
     "name": "stdout",
     "output_type": "stream",
     "text": [
      "wow is a palindrome string\n"
     ]
    }
   ],
   "source": [
    "# 44 prgram to check a string is palindrome or not\n",
    "# wow ka ulta wow----> palindrome hai\n",
    "a=input(\"Enter a string\")\n",
    "rev=a[::-1]\n",
    "if a== rev:\n",
    "    print(a,\"is a palindrome string\")\n",
    "else:\n",
    "    print(a,\"is not a palindrome string\")\n"
   ]
  },
  {
   "cell_type": "code",
   "execution_count": null,
   "id": "508c044e",
   "metadata": {},
   "outputs": [
    {
     "name": "stdout",
     "output_type": "stream",
     "text": [
      "\n",
      "\n",
      "@Hello!How  are You.. is the given string\n",
      "HelloHow  are You\n"
     ]
    }
   ],
   "source": [
    "# 45 program to remove punctuations from from a string\n",
    "\n",
    "punc='''!.,:;\"'#@&^?~.-_'''\n",
    "\n",
    "a=input(\"Enter a string\")\n",
    "print(a,\"is the given string\")\n",
    "\n",
    "empty_string = \"\"\n",
    "\n",
    "for i in a:\n",
    "    if i not in punc:\n",
    "        empty_string += i\n",
    "print(empty_string)\n",
    "\n",
    "\n"
   ]
  },
  {
   "cell_type": "code",
   "execution_count": 17,
   "id": "64587b23",
   "metadata": {},
   "outputs": [
    {
     "name": "stdout",
     "output_type": "stream",
     "text": [
      "[20, 29, 38]\n",
      "[44, 68, 92]\n",
      "[40, 58, 76]\n"
     ]
    }
   ],
   "source": [
    "# 46  to multiply two matrices\n",
    "# info matrix A: m*n, matrixB: n*q...result:m*q\n",
    "a=[[1,2,3],\n",
    "   [4,5,6],\n",
    "   [2,4,6]]\n",
    "\n",
    "b=[[1,3,5],\n",
    "   [2,4,6],\n",
    "   [5,6,7]]\n",
    "\n",
    "result=[[0,0,0],\n",
    "        [0,0,0],\n",
    "        [0,0,0]]\n",
    "for i in range(len(a)):\n",
    "    for j in range(len(b[0])):\n",
    "        for k in range(len(b)):\n",
    "            result[i][j] += a[i][k] * b[k][j]\n",
    "\n",
    "for i in result:\n",
    "    print(i)"
   ]
  },
  {
   "cell_type": "code",
   "execution_count": null,
   "id": "a465f78b",
   "metadata": {},
   "outputs": [
    {
     "name": "stdout",
     "output_type": "stream",
     "text": [
      "Universe Is Always Listening me :is string which have to be sorted in order\n",
      "['Universe', 'Is', 'Always', 'Listening', 'me']\n",
      "['universe', 'is', 'always', 'listening', 'me']\n",
      "['always', 'is', 'listening', 'me', 'universe']\n"
     ]
    }
   ],
   "source": [
    "# 47 TO shorts word in Alphabetical orders\n",
    "\n",
    "a=\"Universe Is Always Listening me\"\n",
    "print(a,\":is string which have to be sorted in order\")\n",
    "\n",
    "# split the words by spaces\n",
    "w=a.split(\" \")\n",
    "print(w)\n",
    "\n",
    "# converting the word ino the lowercase\n",
    "for i in range(len(w)):\n",
    "    w[i]=w[i].lower()\n",
    "\n",
    "print(w)\n",
    "\n",
    "#sorting the words in alphabetical order\n",
    "w.sort()\n",
    "print(w)"
   ]
  },
  {
   "cell_type": "code",
   "execution_count": 6,
   "id": "285e1a6f",
   "metadata": {},
   "outputs": [
    {
     "name": "stdout",
     "output_type": "stream",
     "text": [
      "The Union is : {1, 2, 3, 4, 5, 6, 8, 9}\n",
      "The Intersection is : {1, 6}\n",
      "The difference is : {8, 2, 4}\n",
      "The symmetric difference is : {2, 3, 4, 5, 8, 9}\n"
     ]
    }
   ],
   "source": [
    "#48 To illustrate different Set Operations\n",
    "# Union\n",
    "# Intersection\n",
    "# Difference\n",
    "# symmetric Difference--common elements ko xod ke sare\n",
    "\n",
    "setA={1,2,4,6,8}\n",
    "setB={1,3,5,6,9}\n",
    "\n",
    "print(\"The Union is :\", setA | setB)\n",
    "print(\"The Intersection is :\", setA & setB)\n",
    "print(\"The difference is :\",setA - setB)\n",
    "print(\"The symmetric difference is :\", setA ^ setB)\n",
    "\n"
   ]
  },
  {
   "cell_type": "code",
   "execution_count": 23,
   "id": "5600e6f6",
   "metadata": {},
   "outputs": [
    {
     "name": "stdout",
     "output_type": "stream",
     "text": [
      "living life with like a passion is out of the box\n",
      "{'a': 0, 'e': 0, 'i': 0, 'o': 0, 'u': 0}\n",
      "{'a': 2, 'e': 3, 'i': 7, 'o': 4, 'u': 1}\n",
      "\n",
      "\n",
      "living life with passion is out of the box\n",
      "{'a': 1, 'e': 2, 'i': 6, 'o': 4, 'u': 1}\n"
     ]
    }
   ],
   "source": [
    "# 49 Python program to count the no of each vowel\n",
    "# method 1\n",
    "a=\"Living Life with like a passion is out of the box\"\n",
    "vowels=\"aeiou\"\n",
    "a=a.casefold() # similar to lower case\n",
    "print(a)\n",
    "\n",
    "count= {}.fromkeys(vowels,0)\n",
    "print(count)\n",
    "\n",
    "\n",
    "for char in a:\n",
    "    if char in count:\n",
    "        count[char]+= 1\n",
    "\n",
    "print(count)\n",
    "\n",
    "#method 2  USING LIST & dICTIONARY COMPREHENSION\n",
    "print('\\n')\n",
    "a=\"Living Life with passion is out of the box\"\n",
    "vowel=\"aeiou\"\n",
    "a=a.casefold() # similar to lower case\n",
    "print(a)\n",
    "\n",
    "count={key:sum([1 for char in a if char ==key]) for key in vowel}\n",
    "print(count)\n"
   ]
  },
  {
   "cell_type": "code",
   "execution_count": 26,
   "id": "08ae1c1c",
   "metadata": {},
   "outputs": [
    {
     "name": "stdout",
     "output_type": "stream",
     "text": [
      "<PIL.WebPImagePlugin.WebPImageFile image mode=RGB size=1200x800 at 0x19D1618B6D0>\n",
      "1200 * 800\n"
     ]
    }
   ],
   "source": [
    "# 50 python program to find the size of an image\n",
    "import PIL\n",
    "from PIL import Image \n",
    "img=PIL.Image.open(\"C://Users/rahul//OneDrive//Pictures//pic 1.webp\")\n",
    "width,height=img.size\n",
    "print(img)\n",
    "print(width,\"*\",height)"
   ]
  },
  {
   "cell_type": "code",
   "execution_count": 34,
   "id": "99f92910",
   "metadata": {},
   "outputs": [
    {
     "name": "stdout",
     "output_type": "stream",
     "text": [
      "{'Rahul': 97, 'Manisha': 84, 'Satyam': 91, 'Sandhya': 78}\n",
      "\n",
      "\n",
      "{'Rahul': 97, 'Manisha': 84, 'Satyam': 91, 'Sandhya': 78}\n",
      "\n",
      "\n",
      "{'Satyam': 91, 'Sandhya': 78, 'Manisha': 90, 'Rahul': 97}\n"
     ]
    }
   ],
   "source": [
    "#51 Python program to merge two dictionaries\n",
    "# method 1 using | bar\n",
    "dict1={\"Rahul\":97,\"Manisha\":90}\n",
    "dict2={\"Satyam\":91, \"Sandhya\":78,\"Manisha\":84}\n",
    "print(dict1 | dict2)\n",
    "\n",
    "#method2  using **\n",
    "print('\\n')\n",
    "dict1={\"Rahul\":97,\"Manisha\":90}\n",
    "dict2={\"Satyam\":91, \"Sandhya\":78,\"Manisha\":84}\n",
    "print({**dict1 , **dict2})\n",
    "\n",
    "#method3 using copy and update\n",
    "print('\\n')\n",
    "dict1={\"Rahul\":97,\"Manisha\":90}\n",
    "dict2={\"Satyam\":91, \"Sandhya\":78,\"Manisha\":84}\n",
    "\n",
    "dict3=dict2.copy()\n",
    "dict3.update(dict1)\n",
    "print(dict3)"
   ]
  },
  {
   "cell_type": "code",
   "execution_count": 39,
   "id": "0cc83de8",
   "metadata": {},
   "outputs": [],
   "source": [
    "#52 TO create a nested Directory\n",
    "from pathlib import Path\n",
    "Path(\"C://Users//rahul//OneDrive//Desktop//new_dict//demo_dict\").mkdir(parents=True,exist_ok=True)\n"
   ]
  },
  {
   "cell_type": "code",
   "execution_count": 51,
   "id": "82773c9b",
   "metadata": {},
   "outputs": [
    {
     "name": "stdout",
     "output_type": "stream",
     "text": [
      "0 - 10\n",
      "1 - 20\n",
      "2 - 30\n",
      "3 - 40\n",
      "4 - 50\n",
      "5 - 60\n",
      "6 - 70\n",
      "7 - 80\n",
      "8 - 90\n",
      "\n",
      "\n",
      "0 : 10\n",
      "1 : 20\n",
      "2 : 30\n",
      "3 : 40\n",
      "4 : 50\n",
      "5 : 60\n",
      "6 : 70\n",
      "7 : 80\n",
      "8 : 90\n"
     ]
    }
   ],
   "source": [
    "# 53 To accss the index of a list using for loop\n",
    "#solution1 using enumerate method\n",
    "\n",
    "ls=[10,20,30,40,50,60,70,80,90]\n",
    "for index,value in enumerate(ls,start=0):\n",
    "    print(index,\"-\",value)\n",
    "\n",
    "# solution2 using for loop\n",
    "\n",
    "ls=[10,20,30,40,50,60,70,80,90]\n",
    "print('\\n')\n",
    "for index in range(len(ls)):\n",
    "    value=ls[index]\n",
    "    print(index,\":\",value)"
   ]
  },
  {
   "cell_type": "code",
   "execution_count": 1,
   "id": "c84efc72",
   "metadata": {},
   "outputs": [
    {
     "name": "stdout",
     "output_type": "stream",
     "text": [
      "[2, 3, 4, 5, 6, 7, 8, 9]\n",
      "[2, 3, 4, 5, 6]\n",
      "[9, 8, 7, 6, 5, 4, 3, 2]\n",
      "\n",
      "[5, 6, 7, 8, 9]\n",
      "[2, 4, 6]\n",
      "First half : [2, 3, 4, 5]\n",
      "Second half : [6, 7, 8, 9]\n",
      "\n",
      "[2, 4, 6, 8, 10, 12, 14, 16, 18, 20]\n",
      "[2, 6, 10, 14, 18]\n",
      "[4, 8, 12, 16, 20]\n",
      "\n",
      "\n"
     ]
    }
   ],
   "source": [
    "#54 Program to perform slicing in List\n",
    "l=[2,3,4,5,6,7,8,9]\n",
    "print(l)\n",
    "print(l[:5]) # 0 to 4th element\n",
    "print(l[: :-1]) # last to first\n",
    "print()\n",
    "print(l[-5::]) # start from 3rd to last with gap 1\n",
    "print(l[0:6:2]) # start to last by 2\n",
    "\n",
    "# now dividing these two list in two half\n",
    "mid=len(l)//2\n",
    "first_half=l[:mid]\n",
    "last_half=l[mid:]\n",
    "print(\"First half :\",first_half)\n",
    "print(\"Second half :\",last_half)\n",
    "print()\n",
    "# dividing list in two parts such that one part has\n",
    "# elements at even index and other odd index's elements\n",
    "\n",
    "ls=[2,4,6,8,10,12,14,16,18,20]\n",
    "print(ls)\n",
    "even_index=ls[::2]\n",
    "print(even_index)\n",
    "odd_index=ls[1::2]\n",
    "print(odd_index)\n",
    "\n",
    "print()\n",
    "print()\n",
    "\n",
    "\n",
    "        \n",
    "       \n",
    " "
   ]
  },
  {
   "cell_type": "code",
   "execution_count": 8,
   "id": "3e114ab1",
   "metadata": {},
   "outputs": [
    {
     "name": "stdout",
     "output_type": "stream",
     "text": [
      "{'Rahul': 'Abhishek', 'Harshita': 'Aditi', 'Kamal': 'Shaurab'}\n",
      "\n",
      "Rahul : Abhishek\n",
      "Harshita : Aditi\n",
      "Kamal : Shaurab\n",
      "\n",
      "Rahul : Abhishek\n",
      "Harshita : Aditi\n",
      "Kamal : Shaurab\n",
      "\n",
      "Rahul\n",
      "Harshita\n",
      "Kamal\n",
      "Abhishek\n",
      "Aditi\n",
      "Shaurab\n"
     ]
    }
   ],
   "source": [
    "# 55 Program to iterate over Dictionaries\n",
    "friends={\"Rahul\":\"Abhishek\",\"Harshita\":\"Aditi\",\"Kamal\":\"Shaurab\"}\n",
    "print(friends)\n",
    "print()\n",
    "\n",
    "# solution 1\n",
    "#iterating through  .items\n",
    "\n",
    "for key,value in friends.items():\n",
    "    print(key,\":\",value)\n",
    "\n",
    "# solution 2 with keys\n",
    "print()\n",
    "for key in friends:\n",
    "    print(key,\":\",friends[key])\n",
    "\n",
    "#solution3 with keys and values\n",
    "print()\n",
    "for key in friends.keys():\n",
    "    print(key) # print all keys\n",
    "\n",
    "for i in friends.values():\n",
    "    print(i) #print values of all key\n"
   ]
  },
  {
   "cell_type": "code",
   "execution_count": null,
   "id": "f6f199fe",
   "metadata": {},
   "outputs": [],
   "source": []
  },
  {
   "cell_type": "code",
   "execution_count": null,
   "id": "18c7c6f0",
   "metadata": {},
   "outputs": [],
   "source": []
  },
  {
   "cell_type": "code",
   "execution_count": null,
   "id": "f47f4d45",
   "metadata": {},
   "outputs": [],
   "source": []
  },
  {
   "cell_type": "code",
   "execution_count": null,
   "id": "6b5ed31e",
   "metadata": {},
   "outputs": [],
   "source": []
  },
  {
   "cell_type": "code",
   "execution_count": null,
   "id": "380592f5",
   "metadata": {},
   "outputs": [],
   "source": []
  },
  {
   "cell_type": "code",
   "execution_count": null,
   "id": "4dbb6eb6",
   "metadata": {},
   "outputs": [],
   "source": []
  },
  {
   "cell_type": "code",
   "execution_count": null,
   "id": "31b8bdd6",
   "metadata": {},
   "outputs": [],
   "source": []
  },
  {
   "cell_type": "code",
   "execution_count": null,
   "id": "c7d2c5c6",
   "metadata": {},
   "outputs": [],
   "source": []
  },
  {
   "cell_type": "code",
   "execution_count": null,
   "id": "606da340",
   "metadata": {},
   "outputs": [],
   "source": []
  },
  {
   "cell_type": "code",
   "execution_count": null,
   "id": "4b8d9c67",
   "metadata": {},
   "outputs": [],
   "source": []
  },
  {
   "cell_type": "code",
   "execution_count": null,
   "id": "cb57788a",
   "metadata": {},
   "outputs": [],
   "source": []
  },
  {
   "cell_type": "code",
   "execution_count": null,
   "id": "ef0d0481",
   "metadata": {},
   "outputs": [],
   "source": []
  },
  {
   "cell_type": "code",
   "execution_count": null,
   "id": "595ccdf9",
   "metadata": {},
   "outputs": [],
   "source": []
  },
  {
   "cell_type": "code",
   "execution_count": null,
   "id": "30981bfe",
   "metadata": {},
   "outputs": [],
   "source": []
  },
  {
   "cell_type": "code",
   "execution_count": null,
   "id": "8416cffe",
   "metadata": {},
   "outputs": [],
   "source": []
  },
  {
   "cell_type": "code",
   "execution_count": null,
   "id": "05cd6f5c",
   "metadata": {},
   "outputs": [],
   "source": []
  },
  {
   "cell_type": "code",
   "execution_count": null,
   "id": "89e70b19",
   "metadata": {},
   "outputs": [],
   "source": []
  },
  {
   "cell_type": "code",
   "execution_count": null,
   "id": "375ecfdb",
   "metadata": {},
   "outputs": [],
   "source": []
  },
  {
   "cell_type": "code",
   "execution_count": null,
   "id": "84664cb8",
   "metadata": {},
   "outputs": [],
   "source": []
  },
  {
   "cell_type": "code",
   "execution_count": null,
   "id": "5e413058",
   "metadata": {},
   "outputs": [],
   "source": []
  },
  {
   "cell_type": "code",
   "execution_count": null,
   "id": "41e997e0",
   "metadata": {},
   "outputs": [],
   "source": []
  },
  {
   "cell_type": "code",
   "execution_count": null,
   "id": "135bcc1e",
   "metadata": {},
   "outputs": [],
   "source": []
  },
  {
   "cell_type": "code",
   "execution_count": null,
   "id": "ea5e2857",
   "metadata": {},
   "outputs": [],
   "source": []
  },
  {
   "cell_type": "code",
   "execution_count": null,
   "id": "ff9c33d0",
   "metadata": {},
   "outputs": [],
   "source": [
    "class Atm:\n",
    "    def __init__(self):\n",
    "        self.pin=\"\"\n",
    "        self.balance=0\n",
    "        self.menu()\n",
    "    def menu(self):\n",
    "        user_input=input(\"\"\"\n",
    "                    Hello,how would you like to proceed?\n",
    "                    1.Enter 1 to create pin\n",
    "                    2.Enter 2 to deposit\n",
    "                    3.Enter 3 to withdraw\n",
    "                    4.Enter 4 to check balance\n",
    "                    5.Enter 5 to exit\n",
    "\n",
    "\n",
    "\"\"\")\n",
    "        if user_input=='1':\n",
    "            print(\"Create pin:\")\n",
    "        elif user_input=='2':\n",
    "            print(\"Deposit\")\n",
    "        elif user_input=='3':\n",
    "            print(\"withdraw\")\n",
    "        elif user_input=='4':\n",
    "            print(\"Check balance\")\n",
    "        else:\n",
    "            print(\"Exit...Have a nice day\")\n",
    "\n",
    "sbi=Atm()\n",
    "\n",
    "\n"
   ]
  },
  {
   "cell_type": "code",
   "execution_count": null,
   "id": "7f46a92c",
   "metadata": {},
   "outputs": [],
   "source": [
    "\n",
    "class Atm:\n",
    "    def __init__(self):\n",
    "        self.pin = \"\"\n",
    "        self.balance = 0\n",
    "        self.menu()\n",
    "\n",
    "    def menu(self):\n",
    "        user_input = input(\"\"\"\n",
    "        Hello, how would you like to proceed?\n",
    "        1. Enter 1 to create pin\n",
    "        2. Enter 2 to deposit\n",
    "        3. Enter 3 to withdraw\n",
    "        4. Enter 4 to check balance\n",
    "        5. Enter 5 to exit\n",
    "        \"\"\")\n",
    "        \n",
    "        if user_input == '1':\n",
    "            self.create_pin()\n",
    "        elif user_input == '2':\n",
    "            self.deposit()\n",
    "        elif user_input == '3':\n",
    "            self.withdraw()\n",
    "        elif user_input == '4':\n",
    "            self.check_balance()\n",
    "        else:\n",
    "            print(\"Exit... Have a nice day!\")\n",
    "\n",
    "\n",
    "    def create_pin(self):\n",
    "        self.pin = input(\"Enter your pin: \")\n",
    "        print(\"Pin set successfully\")\n",
    "\n",
    "    def deposit(self):\n",
    "        temp = input(\"Enter your pin: \")\n",
    "        if temp == self.pin:\n",
    "            amount = int(input(\"Enter your amount: \"))\n",
    "            self.balance = self.balance + amount\n",
    "            print(\"Deposit Successfully\")\n",
    "        else:\n",
    "            print(\"Invalid pin..\")\n",
    "\n",
    "    def withdraw(self):\n",
    "        temp = input(\"Enter your pin: \")\n",
    "        if temp == self.pin:\n",
    "            amount = int(input(\"Enter the amount: \"))\n",
    "            if amount < self.balance:\n",
    "                self.balance = self.balance - amount\n",
    "                print(\"Operation successful\")\n",
    "            else:\n",
    "                print(\"Insufficient amount\")\n",
    "        else:\n",
    "            print(\"Invalid PIN\")\n",
    "\n",
    "    def check_balance(self):\n",
    "        temp = input(\"Enter your PIN: \")\n",
    "        if temp == self.pin:\n",
    "            print(self.balance)\n",
    "        else:\n",
    "            print(\"Invalid PIN\")\n",
    "\n",
    "\n",
    "# This line is required to run the code\n",
    "sbi = Atm()"
   ]
  },
  {
   "cell_type": "code",
   "execution_count": null,
   "id": "9fdeff10",
   "metadata": {},
   "outputs": [],
   "source": [
    "class Atm:\n",
    "    def __init__(self):\n",
    "        self.pin = \"\"\n",
    "        self.balance = 0\n",
    "        self.menu()\n",
    "\n",
    "    def menu(self):\n",
    "        user_input = input(\"\"\"\\nHello, how would you like to proceed?\n",
    "        1. Enter 1 to create pin\n",
    "        2. Enter 2 to deposit\n",
    "        3. Enter 3 to withdraw\n",
    "        4. Enter 4 to check balance\n",
    "        5. Enter 5 to exit\n",
    "        \"\"\")\n",
    "\n",
    "        if user_input == '1':\n",
    "            self.create_pin()\n",
    "        elif user_input == '2':\n",
    "            self.deposit()\n",
    "        elif user_input == '3':\n",
    "            self.withdraw()\n",
    "        elif user_input == '4':\n",
    "            self.check_balance()\n",
    "        elif user_input == '5':\n",
    "            print(\"Exit... Have a nice day!\")\n",
    "        else:\n",
    "            print(\"Invalid option. Please try again.\")\n",
    "            self.menu()  # To re-display the menu if an invalid input is given\n",
    "\n",
    "    def create_pin(self):\n",
    "        self.pin = input(\"Enter your pin: \")\n",
    "        print(\"Pin set successfully\")\n",
    "\n",
    "    def deposit(self):\n",
    "        temp = input(\"Enter your pin: \")\n",
    "        if temp == self.pin:\n",
    "            amount = int(input(\"Enter your amount: \"))\n",
    "            self.balance += amount\n",
    "            print(\"Deposit Successful\")\n",
    "        else:\n",
    "            print(\"Invalid pin..\")\n",
    "\n",
    "    def withdraw(self):\n",
    "        temp = input(\"Enter your pin: \")\n",
    "        if temp == self.pin:\n",
    "            amount = int(input(\"Enter the amount: \"))\n",
    "            if amount <= self.balance:\n",
    "                self.balance -= amount\n",
    "                print(\"Operation successful\")\n",
    "            else:\n",
    "                print(\"Insufficient amount\")\n",
    "        else:\n",
    "            print(\"Invalid PIN\")\n",
    "\n",
    "    def check_balance(self):\n",
    "        temp = input(\"Enter your PIN: \")\n",
    "        if temp == self.pin:\n",
    "            print(f\"Your balance is: {self.balance}\")\n",
    "        else:\n",
    "            print(\"Invalid PIN\")\n",
    "\n",
    "\n",
    "# This line is required to run the code\n",
    "sbi = Atm()\n"
   ]
  },
  {
   "cell_type": "code",
   "execution_count": null,
   "id": "61f3089b",
   "metadata": {},
   "outputs": [],
   "source": []
  },
  {
   "cell_type": "code",
   "execution_count": null,
   "id": "5304baa0",
   "metadata": {},
   "outputs": [],
   "source": []
  },
  {
   "cell_type": "code",
   "execution_count": null,
   "id": "b1cc2316",
   "metadata": {},
   "outputs": [],
   "source": []
  },
  {
   "cell_type": "code",
   "execution_count": null,
   "id": "61c0fbd2",
   "metadata": {},
   "outputs": [],
   "source": []
  },
  {
   "cell_type": "code",
   "execution_count": null,
   "id": "4317cb68",
   "metadata": {},
   "outputs": [],
   "source": []
  },
  {
   "cell_type": "code",
   "execution_count": null,
   "id": "d848906e",
   "metadata": {},
   "outputs": [],
   "source": []
  },
  {
   "cell_type": "code",
   "execution_count": null,
   "id": "67d1f569",
   "metadata": {},
   "outputs": [],
   "source": []
  },
  {
   "cell_type": "code",
   "execution_count": null,
   "id": "0721d0a8",
   "metadata": {},
   "outputs": [],
   "source": []
  },
  {
   "cell_type": "code",
   "execution_count": null,
   "id": "b71117c3",
   "metadata": {},
   "outputs": [],
   "source": []
  },
  {
   "cell_type": "code",
   "execution_count": null,
   "id": "a130b698",
   "metadata": {},
   "outputs": [],
   "source": []
  },
  {
   "cell_type": "code",
   "execution_count": null,
   "id": "c4243561",
   "metadata": {},
   "outputs": [],
   "source": []
  },
  {
   "cell_type": "code",
   "execution_count": null,
   "id": "4cff3a2f",
   "metadata": {},
   "outputs": [],
   "source": []
  },
  {
   "cell_type": "code",
   "execution_count": null,
   "id": "379e96ff",
   "metadata": {},
   "outputs": [],
   "source": []
  },
  {
   "cell_type": "code",
   "execution_count": null,
   "id": "3ce85799",
   "metadata": {},
   "outputs": [],
   "source": []
  },
  {
   "cell_type": "code",
   "execution_count": null,
   "id": "50892dd1",
   "metadata": {},
   "outputs": [],
   "source": []
  },
  {
   "cell_type": "code",
   "execution_count": null,
   "id": "4951794d",
   "metadata": {},
   "outputs": [],
   "source": []
  },
  {
   "cell_type": "code",
   "execution_count": null,
   "id": "0e0e5908",
   "metadata": {},
   "outputs": [],
   "source": []
  },
  {
   "cell_type": "code",
   "execution_count": null,
   "id": "beddef4d",
   "metadata": {},
   "outputs": [],
   "source": []
  },
  {
   "cell_type": "code",
   "execution_count": null,
   "id": "b280befa",
   "metadata": {},
   "outputs": [],
   "source": []
  },
  {
   "cell_type": "code",
   "execution_count": null,
   "id": "8f0a8d24",
   "metadata": {},
   "outputs": [],
   "source": []
  },
  {
   "cell_type": "code",
   "execution_count": null,
   "id": "6a7e3941",
   "metadata": {},
   "outputs": [],
   "source": []
  },
  {
   "cell_type": "code",
   "execution_count": null,
   "id": "bb522881",
   "metadata": {},
   "outputs": [],
   "source": []
  },
  {
   "cell_type": "code",
   "execution_count": null,
   "id": "273c3bcb",
   "metadata": {},
   "outputs": [],
   "source": []
  },
  {
   "cell_type": "code",
   "execution_count": null,
   "id": "6b1abe80",
   "metadata": {},
   "outputs": [],
   "source": []
  },
  {
   "cell_type": "code",
   "execution_count": null,
   "id": "5ff47819",
   "metadata": {},
   "outputs": [],
   "source": []
  },
  {
   "cell_type": "code",
   "execution_count": null,
   "id": "195b53de",
   "metadata": {},
   "outputs": [],
   "source": []
  },
  {
   "cell_type": "code",
   "execution_count": null,
   "id": "9a7ce2ce",
   "metadata": {},
   "outputs": [],
   "source": []
  }
 ],
 "metadata": {
  "kernelspec": {
   "display_name": "base",
   "language": "python",
   "name": "python3"
  },
  "language_info": {
   "codemirror_mode": {
    "name": "ipython",
    "version": 3
   },
   "file_extension": ".py",
   "mimetype": "text/x-python",
   "name": "python",
   "nbconvert_exporter": "python",
   "pygments_lexer": "ipython3",
   "version": "3.11.7"
  }
 },
 "nbformat": 4,
 "nbformat_minor": 5
}
