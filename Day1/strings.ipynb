{
 "cells": [
  {
   "cell_type": "markdown",
   "id": "46db5b88",
   "metadata": {},
   "source": [
    "## Part1\n",
    "\n",
    "# Python basic String problems"
   ]
  },
  {
   "cell_type": "code",
   "execution_count": 1,
   "id": "1c87cc7d",
   "metadata": {},
   "outputs": [
    {
     "name": "stdout",
     "output_type": "stream",
     "text": [
      "The string is not a Palingram\n"
     ]
    }
   ],
   "source": [
    "# 1 Python Program to Check if a String is a Pangram or Not\n",
    "# A pangram is a sentence that contains every letter of the alphabet at least once.\n",
    "\n",
    "from string import ascii_lowercase as asc_lower \n",
    "def check(s):\n",
    "    return set(asc_lower) - set(s.lower()) == set([])\n",
    "strng = input(\"Enter a string\")\n",
    "if (check(strng) == True):\n",
    "    print(\"The string is a palingram\")\n",
    "else:\n",
    "    print(\"The string is not a Palingram\")"
   ]
  },
  {
   "cell_type": "code",
   "execution_count": null,
   "id": "7af2a6d6",
   "metadata": {},
   "outputs": [
    {
     "name": "stdout",
     "output_type": "stream",
     "text": [
      "Modify string is:\n",
      "ag\n"
     ]
    }
   ],
   "source": [
    "#2. Python Program to Remove Odd Indexed Characters in a string\n",
    "def modify(string):\n",
    "    final = \"\"\n",
    "    for i in range (len(string)):\n",
    "        if i % 2 == 0:\n",
    "            final += string[i]\n",
    "    return final\n",
    "\n",
    "string = input(\"Enter a string:\")\n",
    "print(\"Modify string is:\")\n",
    "print((modify(string)))"
   ]
  },
  {
   "cell_type": "code",
   "execution_count": 6,
   "id": "cf05c056",
   "metadata": {},
   "outputs": [
    {
     "name": "stdout",
     "output_type": "stream",
     "text": [
      "Modified string:\n",
      "RAMESWARSINGHRANA\n"
     ]
    }
   ],
   "source": [
    "#3.Python Program to Remove the nth Index Character from a Non-Empty String\n",
    "\n",
    "def remove(string, n):  \n",
    "      first = string[:n]   \n",
    "      last = string[n+1:]  \n",
    "      return first + last\n",
    "string=input(\"Enter the sring:\")\n",
    "n=int(input(\"Enter the index of the character to remove:\"))\n",
    "print(\"Modified string:\")\n",
    "print(remove(string, n))"
   ]
  },
  {
   "cell_type": "code",
   "execution_count": null,
   "id": "1360c298",
   "metadata": {},
   "outputs": [],
   "source": [
    "#4.Python Program to Replace All Occurrences of ‘a’ with $ in a String\n",
    "\n",
    "string=input(\"Enter string:\")\n",
    "string=string.replace('a','$')\n",
    "string=string.replace('A','$')\n",
    "print(\"Modified string:\")\n",
    "print(string)"
   ]
  },
  {
   "cell_type": "code",
   "execution_count": null,
   "id": "67e7b959",
   "metadata": {},
   "outputs": [],
   "source": [
    "#5. Python Program to Replace Every Blank Space with Hyphen in a String\n",
    "\n",
    "string=input(\"Enter string:\")\n",
    "string=string.replace(' ','-')\n",
    "print(\"Modified string:\")\n",
    "print(string)"
   ]
  },
  {
   "cell_type": "code",
   "execution_count": null,
   "id": "b014caf6",
   "metadata": {},
   "outputs": [],
   "source": [
    "#6. Python Program to Reverse a String using Recursion\n",
    "\n",
    "def reverse_string_loop(string):\n",
    "    reversed_string = ''\n",
    "    for char in string:\n",
    "        reversed_string = char + reversed_string\n",
    "    return reversed_string\n",
    " \n",
    "string = input(\"Enter the string to be reversed: \")\n",
    "print(reverse_string_loop(string))"
   ]
  },
  {
   "cell_type": "code",
   "execution_count": null,
   "id": "da351289",
   "metadata": {},
   "outputs": [],
   "source": [
    "#7. Python Program to Reverse a String Without using Recursion\n",
    "\n",
    "a=str(input(\"Enter a string: \"))\n",
    "print(\"Reverse of the string is: \")\n",
    "print(a[::-1])"
   ]
  },
  {
   "cell_type": "code",
   "execution_count": null,
   "id": "32953b55",
   "metadata": {},
   "outputs": [],
   "source": [
    "#8. Python Program to Determine How Many Times a Given Letter Occurs in a String Recursively\n",
    "\n",
    "def check(string,ch):\n",
    "      if not string:\n",
    "        return 0\n",
    "      elif string[0]==ch:\n",
    "            return 1+check(string[1:],ch)\n",
    "      else:\n",
    "            return check(string[1:],ch)\n",
    "string=input(\"Enter string:\")\n",
    "ch=input(\"Enter character to check:\")\n",
    "print(\"Count is:\")\n",
    "print(check(string,ch))"
   ]
  },
  {
   "cell_type": "code",
   "execution_count": null,
   "id": "0dd9479d",
   "metadata": {},
   "outputs": [],
   "source": [
    "#9. Python Program to Find the Length of a String without Library Function\n",
    "\n",
    "string=input(\"Enter string:\")\n",
    "count=0\n",
    "for i in string:\n",
    "      count=count+1\n",
    "print(\"Length of the string is:\")\n",
    "print(count)"
   ]
  },
  {
   "cell_type": "code",
   "execution_count": null,
   "id": "88bae467",
   "metadata": {},
   "outputs": [],
   "source": [
    "#10. Python Program to Count the Number of Words and Characters in a String\n",
    "\n",
    "string=input(\"Enter string:\")\n",
    "char=0\n",
    "word=1\n",
    "for i in string:\n",
    "      char=char+1\n",
    "      if(i==' '):\n",
    "            word=word+1\n",
    "print(\"Number of words in the string:\")\n",
    "print(word)\n",
    "print(\"Number of characters in the string:\")\n",
    "print(char)"
   ]
  },
  {
   "cell_type": "code",
   "execution_count": null,
   "id": "12813e7f",
   "metadata": {},
   "outputs": [],
   "source": []
  },
  {
   "cell_type": "code",
   "execution_count": null,
   "id": "04557729",
   "metadata": {},
   "outputs": [],
   "source": []
  },
  {
   "cell_type": "code",
   "execution_count": null,
   "id": "70713225",
   "metadata": {},
   "outputs": [],
   "source": []
  },
  {
   "cell_type": "code",
   "execution_count": null,
   "id": "775f0c7c",
   "metadata": {},
   "outputs": [],
   "source": []
  },
  {
   "cell_type": "code",
   "execution_count": null,
   "id": "1aee1831",
   "metadata": {},
   "outputs": [],
   "source": []
  },
  {
   "cell_type": "code",
   "execution_count": null,
   "id": "ddb188e6",
   "metadata": {},
   "outputs": [],
   "source": []
  }
 ],
 "metadata": {
  "kernelspec": {
   "display_name": "Python 3",
   "language": "python",
   "name": "python3"
  },
  "language_info": {
   "codemirror_mode": {
    "name": "ipython",
    "version": 3
   },
   "file_extension": ".py",
   "mimetype": "text/x-python",
   "name": "python",
   "nbconvert_exporter": "python",
   "pygments_lexer": "ipython3",
   "version": "3.11.9"
  }
 },
 "nbformat": 4,
 "nbformat_minor": 5
}
